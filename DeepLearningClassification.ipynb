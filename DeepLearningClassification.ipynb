{
  "nbformat": 4,
  "nbformat_minor": 0,
  "metadata": {
    "colab": {
      "provenance": [],
      "authorship_tag": "ABX9TyOzJHJJt5F+DFmrmFc9N579",
      "include_colab_link": true
    },
    "kernelspec": {
      "name": "python3",
      "display_name": "Python 3"
    },
    "language_info": {
      "name": "python"
    }
  },
  "cells": [
    {
      "cell_type": "markdown",
      "metadata": {
        "id": "view-in-github",
        "colab_type": "text"
      },
      "source": [
        "<a href=\"https://colab.research.google.com/github/VienneseWaltz/DeepLearningExploration/blob/main/DeepLearningClassification.ipynb\" target=\"_parent\"><img src=\"https://colab.research.google.com/assets/colab-badge.svg\" alt=\"Open In Colab\"/></a>"
      ]
    },
    {
      "cell_type": "code",
      "execution_count": null,
      "metadata": {
        "colab": {
          "base_uri": "https://localhost:8080/"
        },
        "id": "2LA_L5ePAUGN",
        "outputId": "c950e4d0-85f6-4982-c2d2-b6d9294bcd38"
      },
      "outputs": [
        {
          "output_type": "stream",
          "name": "stdout",
          "text": [
            "\n",
            "Loaded Data: \n",
            "----------------------------------------------\n",
            "   Sepal.Length  Sepal.Width  Petal.Length  Petal.Width Species\n",
            "0           5.1          3.5           1.4          0.2  setosa\n",
            "1           4.9          3.0           1.4          0.2  setosa\n",
            "2           4.7          3.2           1.3          0.2  setosa\n",
            "3           4.6          3.1           1.5          0.2  setosa\n",
            "4           5.0          3.6           1.4          0.2  setosa\n",
            "\n",
            "Features before scaling : \n",
            "----------------------------------------------\n",
            "[[5.1 3.5 1.4 0.2]\n",
            " [4.9 3.  1.4 0.2]\n",
            " [4.7 3.2 1.3 0.2]\n",
            " [4.6 3.1 1.5 0.2]\n",
            " [5.  3.6 1.4 0.2]]\n",
            "\n",
            "Target before scaling : \n",
            "-----------------------------------------------\n",
            "[0. 0. 0. 0. 0.]\n",
            "\n",
            "Features after scaling : \n",
            "--------------------------------------------\n",
            "[[-0.90068117  1.01900435 -1.34022653 -1.3154443 ]\n",
            " [-1.14301691 -0.13197948 -1.34022653 -1.3154443 ]\n",
            " [-1.38535265  0.32841405 -1.39706395 -1.3154443 ]\n",
            " [-1.50652052  0.09821729 -1.2833891  -1.3154443 ]\n",
            " [-1.02184904  1.24920112 -1.34022653 -1.3154443 ]]\n",
            "\n",
            "Target after one-hot-encoding: \n",
            "---------------------------------------\n",
            "[[1. 0. 0.]\n",
            " [1. 0. 0.]\n",
            " [1. 0. 0.]\n",
            " [1. 0. 0.]\n",
            " [1. 0. 0.]]\n",
            "\n",
            "Train Testing Dimensions: \n",
            "--------------\n",
            "(135, 4) (135, 3) (15, 4) (15, 3)\n"
          ]
        }
      ],
      "source": [
        "import pandas as pd\n",
        "import os\n",
        "import tensorflow as tf\n",
        "import numpy as np\n",
        "from sklearn.model_selection import train_test_split\n",
        "from sklearn.preprocessing import StandardScaler\n",
        "\n",
        "# Load Data and review content\n",
        "iris_data = pd.read_csv(\"iris.csv\")\n",
        "\n",
        "print(\"\\nLoaded Data: \\n----------------------------------------------\")\n",
        "print(iris_data.head())\n",
        "\n",
        "# Use a Label encoder to convert String to numeric values\n",
        "# for the target variable\n",
        "\n",
        "from sklearn import preprocessing\n",
        "label_encoder = preprocessing.LabelEncoder()\n",
        "iris_data['Species'] = label_encoder.fit_transform(iris_data['Species'])\n",
        "\n",
        "# For Keras Deep Learning, convert input to numpy array\n",
        "np_iris = iris_data.to_numpy()\n",
        "\n",
        "# Separate feature and target variables\n",
        "# X_data has 4 columns and Y_data has 1 column\n",
        "X_data = np_iris[:, 0:4] # column 1 to 3 data\n",
        "Y_data = np_iris[:, 4]   # column 4 data only\n",
        "\n",
        "print(\"\\nFeatures before scaling : \\n----------------------------------------------\")\n",
        "print(X_data[:5, :])\n",
        "print(\"\\nTarget before scaling : \\n-----------------------------------------------\")\n",
        "print(Y_data[:5])\n",
        "\n",
        "# Create a scalar model that is fit on the input data\n",
        "scaler = StandardScaler().fit(X_data)\n",
        "\n",
        "# Scale the numeric feature variables\n",
        "X_data = scaler.transform(X_data)\n",
        "\n",
        "# The target variable is multi-class. Hence, we will convert the target variable\n",
        "# as a one-hot-encoding array of 3 columns, with each column representing a species\n",
        "Y_data = tf.keras.utils.to_categorical(Y_data, 3)\n",
        "\n",
        "print(\"\\nFeatures after scaling : \\n--------------------------------------------\")\n",
        "print(X_data[:5, :])\n",
        "print(\"\\nTarget after one-hot-encoding: \\n---------------------------------------\")\n",
        "print(Y_data[:5, :])\n",
        "\n",
        "\n",
        "# Split training and test data\n",
        "X_train, X_test, Y_train, Y_test = train_test_split(X_data, Y_data, test_size = 0.10)\n",
        "\n",
        "print(\"\\nTrain Testing Dimensions: \\n--------------\")\n",
        "print(X_train.shape, Y_train.shape, X_test.shape, Y_test.shape)\n",
        "\n",
        "\n"
      ]
    },
    {
      "cell_type": "markdown",
      "source": [
        "**4.3 Creating a Model**\n",
        "Creating a model in Keras requires defining:\n",
        "1. Number of hidden layers\n",
        "2. Number of nodes in each layer\n",
        "3. Activation functions\n",
        "4. Loss Function & Accuracy measurements"
      ],
      "metadata": {
        "id": "ig8CIDlSMOoT"
      }
    },
    {
      "cell_type": "code",
      "source": [
        "from tensorflow import keras\n",
        "# Number of classes in the target variable\n",
        "NB_CLASSES = 3\n",
        "\n",
        "# Create a sequential model in Keras\n",
        "model = tf.keras.models.Sequential()\n",
        "\n",
        "# Add the first hidden layer\n",
        "model.add(keras.layers.Dense(128,                       # Number of nodes\n",
        "                             input_shape=(4,),          # Number of input variables\n",
        "                             name = 'Hidden-Layer-1',   # Logical name\n",
        "                             activation='relu'))        # activation\n",
        "\n",
        "# Add a second layer\n",
        "model.add(keras.layers.Dense(128,\n",
        "                             name='Hidden-Layer-2',\n",
        "                             activation='relu'))\n",
        "\n",
        "# Add an output layer with softmax activation. No. of nodes will be equal to the\n",
        "# NB_CLASSES\n",
        "model.add(keras.layers.Dense(NB_CLASSES,\n",
        "                             name = 'Output-Layer',\n",
        "                             activation = 'softmax'))\n",
        "\n",
        "# Compile the model with loss & metrics\n",
        "model.compile(loss = 'categorical_crossentropy',\n",
        "              metrics = ['accuracy'])\n",
        "\n",
        "# Print the model meta-data\n",
        "model.summary()"
      ],
      "metadata": {
        "colab": {
          "base_uri": "https://localhost:8080/"
        },
        "id": "WaWd--2vMT2O",
        "outputId": "588ba28c-f56f-429a-ff02-d1bafc613344"
      },
      "execution_count": null,
      "outputs": [
        {
          "output_type": "stream",
          "name": "stdout",
          "text": [
            "Model: \"sequential\"\n",
            "_________________________________________________________________\n",
            " Layer (type)                Output Shape              Param #   \n",
            "=================================================================\n",
            " Hidden-Layer-1 (Dense)      (None, 128)               640       \n",
            "                                                                 \n",
            " Hidden-Layer-2 (Dense)      (None, 128)               16512     \n",
            "                                                                 \n",
            " Output-Layer (Dense)        (None, 3)                 387       \n",
            "                                                                 \n",
            "=================================================================\n",
            "Total params: 17539 (68.51 KB)\n",
            "Trainable params: 17539 (68.51 KB)\n",
            "Non-trainable params: 0 (0.00 Byte)\n",
            "_________________________________________________________________\n"
          ]
        }
      ]
    },
    {
      "cell_type": "markdown",
      "source": [
        "**4.4 Training and evaluating the Model**\n",
        "Training the model involves defining various training models and then perform forward and backward propagation."
      ],
      "metadata": {
        "id": "GSXQHaT8VaIm"
      }
    },
    {
      "cell_type": "code",
      "source": [
        "# Make it verbose so we can see the progress\n",
        "VERBOSE = 1\n",
        "\n",
        "# Setup Hyperparameters for training\n",
        "\n",
        "# Set Batch Size\n",
        "BATCH_SIZE = 16\n",
        "# Set number of epochs\n",
        "EPOCHS = 10\n",
        "# Set validation split. 20% of the training data will be used for validation after each epoch\n",
        "VALIDATION_SPLIT = 0.2\n",
        "\n",
        "print(\"\\nTraining Progress: \\n---------------------------------------------\")\n",
        "\n",
        "# Fit the model. This will perform the entire training cycle, including forward propagation,\n",
        "# loss computation, backward propagation, and gradient descent.\n",
        "# Execute for the specified batch sizes and epoch.\n",
        "# Perform validation after each epoch.\n",
        "history = model.fit(X_train,                            # input\n",
        "                    Y_train,                            # target variable\n",
        "                    batch_size = BATCH_SIZE,\n",
        "                    epochs = EPOCHS,\n",
        "                    verbose = VERBOSE,\n",
        "                    validation_split = VALIDATION_SPLIT)\n",
        "\n",
        "print(\"\\nAccuracy during Training: \\n----------------------------------------------\")\n",
        "\n",
        "import matplotlib.pyplot as plt\n",
        "\n",
        "# Plot accuracy of the model after each epoch.\n",
        "pd.DataFrame(history.history)[\"accuracy\"].plot(figsize=(8, 5))\n",
        "plt.title(\"Accuracy improvements with Epoch\")\n",
        "plt.show()\n",
        "\n",
        "# Evaluate the model against the test dataset and print results\n",
        "print(\"\\nEvaluation against Test Dataset: \\n---------------------------------------------\")\n",
        "model.evaluate(X_test, Y_test)\n"
      ],
      "metadata": {
        "colab": {
          "base_uri": "https://localhost:8080/",
          "height": 1000
        },
        "id": "cUzB7Ks2Voky",
        "outputId": "0dac5ebf-80a6-4626-e8be-fd555b1d3693"
      },
      "execution_count": null,
      "outputs": [
        {
          "output_type": "stream",
          "name": "stdout",
          "text": [
            "\n",
            "Training Progress: \n",
            "---------------------------------------------\n",
            "Epoch 1/10\n",
            "7/7 [==============================] - 1s 43ms/step - loss: 0.8247 - accuracy: 0.7593 - val_loss: 0.5878 - val_accuracy: 0.8148\n",
            "Epoch 2/10\n",
            "7/7 [==============================] - 0s 9ms/step - loss: 0.5448 - accuracy: 0.8426 - val_loss: 0.4402 - val_accuracy: 0.8148\n",
            "Epoch 3/10\n",
            "7/7 [==============================] - 0s 6ms/step - loss: 0.4449 - accuracy: 0.8426 - val_loss: 0.3717 - val_accuracy: 0.8148\n",
            "Epoch 4/10\n",
            "7/7 [==============================] - 0s 7ms/step - loss: 0.3864 - accuracy: 0.8704 - val_loss: 0.3344 - val_accuracy: 0.8148\n",
            "Epoch 5/10\n",
            "7/7 [==============================] - 0s 7ms/step - loss: 0.3460 - accuracy: 0.8519 - val_loss: 0.3027 - val_accuracy: 0.8519\n",
            "Epoch 6/10\n",
            "7/7 [==============================] - 0s 10ms/step - loss: 0.3131 - accuracy: 0.8611 - val_loss: 0.2604 - val_accuracy: 0.9259\n",
            "Epoch 7/10\n",
            "7/7 [==============================] - 0s 9ms/step - loss: 0.2854 - accuracy: 0.8704 - val_loss: 0.2389 - val_accuracy: 0.9259\n",
            "Epoch 8/10\n",
            "7/7 [==============================] - 0s 7ms/step - loss: 0.2571 - accuracy: 0.8889 - val_loss: 0.2183 - val_accuracy: 0.9259\n",
            "Epoch 9/10\n",
            "7/7 [==============================] - 0s 7ms/step - loss: 0.2350 - accuracy: 0.8889 - val_loss: 0.1921 - val_accuracy: 0.9259\n",
            "Epoch 10/10\n",
            "7/7 [==============================] - 0s 8ms/step - loss: 0.2206 - accuracy: 0.8889 - val_loss: 0.1774 - val_accuracy: 0.9630\n",
            "\n",
            "Accuracy during Training: \n",
            "----------------------------------------------\n"
          ]
        },
        {
          "output_type": "display_data",
          "data": {
            "text/plain": [
              "<Figure size 800x500 with 1 Axes>"
            ],
            "image/png": "[encoded data removed]"
          },
          "metadata": {}
        },
        {
          "output_type": "stream",
          "name": "stdout",
          "text": [
            "\n",
            "Evaluation against Test Dataset: \n",
            "---------------------------------------------\n",
            "1/1 [==============================] - 0s 24ms/step - loss: 0.2403 - accuracy: 0.8667\n"
          ]
        },
        {
          "output_type": "execute_result",
          "data": {
            "text/plain": [
              "[0.24028703570365906, 0.8666666746139526]"
            ]
          },
          "metadata": {},
          "execution_count": 3
        }
      ]
    },
    {
      "cell_type": "markdown",
      "source": [
        "**4.5 Saving and Loading Models**\n",
        "The training and infernece environments are usually separate. Models need to be saved after they are validated. They are then loaded into the inference environments for actual predictioin."
      ],
      "metadata": {
        "id": "P5Q_MFX5S-x7"
      }
    },
    {
      "cell_type": "code",
      "source": [
        "# Saving a model\n",
        "model.save(\"iris_save\")\n",
        "\n",
        "# Loading a Model\n",
        "loaded_model = keras.models.load_model(\"iris_save\")\n",
        "\n",
        "# Print Model Summary\n",
        "loaded_model.summary()"
      ],
      "metadata": {
        "id": "7AQnr5i_X7qE",
        "colab": {
          "base_uri": "https://localhost:8080/"
        },
        "outputId": "33daacde-e4f6-49f7-9032-77bc7027dfad"
      },
      "execution_count": null,
      "outputs": [
        {
          "output_type": "stream",
          "name": "stderr",
          "text": [
            "WARNING:absl:`Hidden-Layer-1_input` is not a valid tf.function parameter name. Sanitizing to `Hidden_Layer_1_input`.\n",
            "WARNING:absl:`Hidden-Layer-1_input` is not a valid tf.function parameter name. Sanitizing to `Hidden_Layer_1_input`.\n",
            "WARNING:absl:`Hidden-Layer-1_input` is not a valid tf.function parameter name. Sanitizing to `Hidden_Layer_1_input`.\n"
          ]
        },
        {
          "output_type": "stream",
          "name": "stdout",
          "text": [
            "Model: \"sequential\"\n",
            "_________________________________________________________________\n",
            " Layer (type)                Output Shape              Param #   \n",
            "=================================================================\n",
            " Hidden-Layer-1 (Dense)      (None, 128)               640       \n",
            "                                                                 \n",
            " Hidden-Layer-2 (Dense)      (None, 128)               16512     \n",
            "                                                                 \n",
            " Output-Layer (Dense)        (None, 3)                 387       \n",
            "                                                                 \n",
            "=================================================================\n",
            "Total params: 17539 (68.51 KB)\n",
            "Trainable params: 17539 (68.51 KB)\n",
            "Non-trainable params: 0 (0.00 Byte)\n",
            "_________________________________________________________________\n"
          ]
        }
      ]
    },
    {
      "cell_type": "markdown",
      "source": [
        "**4.6 Predictions with Deep Learning Models**\n",
        "\n",
        "\n"
      ],
      "metadata": {
        "id": "h0hHuXX8ZZb3"
      }
    },
    {
      "cell_type": "code",
      "source": [
        "# Raw prediction data\n",
        "# Prediction input of 4 feature variables, namely sepal length, sepal width, petal length\n",
        "# and petal width\n",
        "prediction_input = [[6.6, 4., 4.4, 1.4]]\n",
        "\n",
        "# Scale prediction data with the same scaling model\n",
        "scaled_input = scaler.transform(prediction_input)\n",
        "\n",
        "# Get raw prediction preobabilities\n",
        "raw_prediction = model.predict(scaled_input)\n",
        "print(\"Raw Prediction Output (Probabilities): \", raw_prediction)\n",
        "\n",
        "# Find prediction\n",
        "prediction = np.argmax(raw_prediction)\n",
        "print(\"Prediction is \", label_encoder.inverse_transform([prediction]))\n"
      ],
      "metadata": {
        "colab": {
          "base_uri": "https://localhost:8080/"
        },
        "id": "wZh-c3MaZlAZ",
        "outputId": "bea9294c-aa65-4f8c-c05c-dc223121bb08"
      },
      "execution_count": null,
      "outputs": [
        {
          "output_type": "stream",
          "name": "stdout",
          "text": [
            "1/1 [==============================] - 0s 94ms/step\n",
            "Raw Prediction Output (Probabilities):  [[0.2826173  0.5756551  0.14172757]]\n",
            "Prediction is  ['versicolor']\n"
          ]
        }
      ]
    },
    {
      "cell_type": "code",
      "source": [],
      "metadata": {
        "id": "NAdGat--hGKn"
      },
      "execution_count": null,
      "outputs": []
    },
    {
      "cell_type": "markdown",
      "source": [
        "**Spam Classification Problem**"
      ],
      "metadata": {
        "id": "UXTqrtY1BTa5"
      }
    },
    {
      "cell_type": "markdown",
      "source": [
        "**Test Preprocessing needed:**\n",
        " * Clearnsing\n",
        " * Stop word removal\n",
        " * Lemmatization\n",
        " * Numeric representation\n",
        "   * TF-IDF vs. word embedding\n",
        "\n",
        "\n",
        "\n",
        "\n",
        "\n",
        "\n",
        "\n"
      ],
      "metadata": {
        "id": "qkdH40TDBnz3"
      }
    },
    {
      "cell_type": "code",
      "source": [
        "!pip install nltk\n",
        "\n",
        "import nltk\n",
        "\n",
        "nltk.download('stopwords')\n",
        "nltk.download ('punkt')\n",
        "\n",
        "nltk.download('wordnet')\n",
        "from nltk.stem import WordNetLemmatizer\n",
        "lemmatizer = WordNetLemmatizer()"
      ],
      "metadata": {
        "colab": {
          "base_uri": "https://localhost:8080/"
        },
        "id": "apqhnDPyBXH9",
        "outputId": "aea2dda0-95bb-4b7a-b129-c180a9ab91e7"
      },
      "execution_count": null,
      "outputs": [
        {
          "output_type": "stream",
          "name": "stdout",
          "text": [
            "Requirement already satisfied: nltk in /usr/local/lib/python3.10/dist-packages (3.8.1)\n",
            "Requirement already satisfied: click in /usr/local/lib/python3.10/dist-packages (from nltk) (8.1.7)\n",
            "Requirement already satisfied: joblib in /usr/local/lib/python3.10/dist-packages (from nltk) (1.3.2)\n",
            "Requirement already satisfied: regex>=2021.8.3 in /usr/local/lib/python3.10/dist-packages (from nltk) (2023.12.25)\n",
            "Requirement already satisfied: tqdm in /usr/local/lib/python3.10/dist-packages (from nltk) (4.66.2)\n"
          ]
        },
        {
          "output_type": "stream",
          "name": "stderr",
          "text": [
            "[nltk_data] Downloading package stopwords to /root/nltk_data...\n",
            "[nltk_data]   Unzipping corpora/stopwords.zip.\n",
            "[nltk_data] Downloading package punkt to /root/nltk_data...\n",
            "[nltk_data]   Unzipping tokenizers/punkt.zip.\n",
            "[nltk_data] Downloading package wordnet to /root/nltk_data...\n"
          ]
        }
      ]
    },
    {
      "cell_type": "code",
      "source": [],
      "metadata": {
        "id": "PcBRmPjtD5g_"
      },
      "execution_count": null,
      "outputs": []
    },
    {
      "cell_type": "markdown",
      "source": [
        "**5.2 Creating Text Representations**\n",
        "\n",
        "Text data needs to be converted to numeric representations before they can be used to train deep learning models. The Spam classification feature data is converted to TF-IDF vectors and the target variable is converted to one-hot encoding."
      ],
      "metadata": {
        "id": "myy4ampKEJZZ"
      }
    },
    {
      "cell_type": "code",
      "source": [
        "import pandas as pd\n",
        "import os\n",
        "import numpy as np\n",
        "from sklearn.model_selection import train_test_split\n",
        "from sklearn.preprocessing import scale\n",
        "\n",
        "# Load Spam Data and review content\n",
        "spam_data = pd.read_csv(\"Spam-Classification.csv\")\n",
        "\n",
        "print(\"\\nLoaded Data : \\n---------------------------------------\")\n",
        "print(spam_data.head())\n",
        "\n",
        "# Separate feature and target data\n",
        "spam_classes_raw = spam_data[\"CLASS\"]\n",
        "spam_messages = spam_data[\"SMS\"]\n"
      ],
      "metadata": {
        "colab": {
          "base_uri": "https://localhost:8080/"
        },
        "id": "RinCGSrcEdeF",
        "outputId": "622cc043-203d-4318-df4f-7399d6598807"
      },
      "execution_count": null,
      "outputs": [
        {
          "output_type": "stream",
          "name": "stdout",
          "text": [
            "\n",
            "Loaded Data : \n",
            "---------------------------------------\n",
            "  CLASS                                                SMS\n",
            "0   ham   said kiss, kiss, i can't do the sound effects...\n",
            "1   ham      &lt;#&gt; ISH MINUTES WAS 5 MINUTES AGO. WTF.\n",
            "2  spam  (Bank of Granite issues Strong-Buy) EXPLOSIVE ...\n",
            "3  spam  * FREE* POLYPHONIC RINGTONE Text SUPER to 8713...\n",
            "4  spam  **FREE MESSAGE**Thanks for using the Auction S...\n"
          ]
        }
      ]
    },
    {
      "cell_type": "code",
      "source": [
        "import nltk\n",
        "import tensorflow as tf\n",
        "\n",
        "from nltk.corpus import stopwords\n",
        "nltk.download('stopwords')\n",
        "\n",
        "# Custom toeknizer to remove stopwords and use lemmatization\n",
        "def customtokenize(str):\n",
        "  # Split string as tokens\n",
        "  tokens = nltk.word_tokenize(str)\n",
        "  # Fliter for stopwords\n",
        "  nostop = list(filter(lambda token: token not in stopwords.words('english'), tokens))\n",
        "  # Perform lemmatization\n",
        "  lemmatized = [lemmatizer.lemmatize(word) for word in nostop]\n",
        "  return lemmatized\n",
        "\n",
        "from sklearn.feature_extraction.text import TfidfVectorizer\n",
        "\n",
        "# Build a TF-IDF Vectorizer model\n",
        "vectorizer = TfidfVectorizer(tokenizer = customtokenize)\n",
        "\n",
        "# Transform feature input to TF-IDF\n",
        "tfidf = vectorizer.fit_transform(spam_messages)\n",
        "\n",
        "# Convert TF-IDF to numpy array\n",
        "tfidf_array = tfidf.toarray()\n",
        "\n",
        "# Build a label encoder for target variable to convert strings to numeric values\n",
        "from sklearn import preprocessing\n",
        "label_encoder = preprocessing.LabelEncoder()\n",
        "spam_classes = label_encoder.fit_transform(spam_classes_raw)\n",
        "\n",
        "# Convert target to one-hot encoding vector\n",
        "spam_classes = tf.keras.utils.to_categorical(spam_classes, 2)\n",
        "\n",
        "print(\"TF-IDF Matrix Shape: \", tfidf.shape)\n",
        "print(\"ONe-hot Encoding Shape:\", spam_classes.shape)\n",
        "\n",
        "X_train, X_test, Y_train, Y_test = train_test_split(tfidf_array, spam_classes, test_size=0.10)\n",
        "\n",
        "\n",
        "\n"
      ],
      "metadata": {
        "colab": {
          "base_uri": "https://localhost:8080/"
        },
        "id": "8iNvPNHQGc1w",
        "outputId": "fa490095-924f-4865-87d3-00d4413d19c0"
      },
      "execution_count": null,
      "outputs": [
        {
          "output_type": "stream",
          "name": "stderr",
          "text": [
            "[nltk_data] Downloading package stopwords to /root/nltk_data...\n",
            "[nltk_data]   Package stopwords is already up-to-date!\n",
            "/usr/local/lib/python3.10/dist-packages/sklearn/feature_extraction/text.py:528: UserWarning: The parameter 'token_pattern' will not be used since 'tokenizer' is not None'\n",
            "  warnings.warn(\n"
          ]
        },
        {
          "output_type": "stream",
          "name": "stdout",
          "text": [
            "TF-IDF Matrix Shape:  (1500, 4566)\n",
            "ONe-hot Encoding Shape: (1500, 2)\n"
          ]
        }
      ]
    },
    {
      "cell_type": "code",
      "source": [
        "# The feature variables have 4,566 columns and the target variable has 2."
      ],
      "metadata": {
        "id": "uwRX32WnO_Z9"
      },
      "execution_count": null,
      "outputs": []
    },
    {
      "cell_type": "markdown",
      "source": [
        "**5.3 Building and Evaluating the Model**"
      ],
      "metadata": {
        "id": "eb-jenAmRR8K"
      }
    },
    {
      "cell_type": "code",
      "source": [
        "from tensorflow import keras\n",
        "from tensorflow.keras import optimizers\n",
        "from tensorflow.keras.regularizers import l2\n",
        "\n",
        "# Set up Hyperparameters for building the model\n",
        "NB_CLASSES = 2\n",
        "N_HIDDEN = 32  # No. of nodes in hidden layer\n",
        "\n",
        "model = tf.keras.models.Sequential()\n",
        "model.add(keras.layers.Dense(N_HIDDEN,\n",
        "                             input_shape = (X_train.shape[1],),\n",
        "                             name= 'Hidden-Layer-1',\n",
        "                             activation = 'relu'))\n",
        "\n",
        "model.add(keras.layers.Dense(N_HIDDEN,\n",
        "                             name = 'Hidden-Layer-2',\n",
        "                             activation = 'relu'))\n",
        "\n",
        "model.add(keras.layers.Dense(NB_CLASSES,\n",
        "                             name = 'Output-Layer',\n",
        "                             activation = 'softmax'))\n",
        "\n",
        "model.compile(loss='categorical_crossentropy',\n",
        "              metrics = ['accuracy'])\n",
        "\n",
        "model.summary()\n"
      ],
      "metadata": {
        "id": "ZSa4to7iRX7D",
        "colab": {
          "base_uri": "https://localhost:8080/"
        },
        "outputId": "5b498434-4102-4b4e-a9e4-b8ede3831d40"
      },
      "execution_count": null,
      "outputs": [
        {
          "output_type": "stream",
          "name": "stdout",
          "text": [
            "Model: \"sequential_1\"\n",
            "_________________________________________________________________\n",
            " Layer (type)                Output Shape              Param #   \n",
            "=================================================================\n",
            " Hidden-Layer-1 (Dense)      (None, 32)                146144    \n",
            "                                                                 \n",
            " Hidden-Layer-2 (Dense)      (None, 32)                1056      \n",
            "                                                                 \n",
            " Output-Layer (Dense)        (None, 2)                 66        \n",
            "                                                                 \n",
            "=================================================================\n",
            "Total params: 147266 (575.26 KB)\n",
            "Trainable params: 147266 (575.26 KB)\n",
            "Non-trainable params: 0 (0.00 Byte)\n",
            "_________________________________________________________________\n"
          ]
        }
      ]
    },
    {
      "cell_type": "code",
      "source": [
        "# The model is now created. We can now perform the training.\n",
        "\n",
        "# Make it verbose so we can see the progress\n",
        "VERBOSE = 1\n",
        "\n",
        "# Set up Hyperparameters for training\n",
        "BATCH_SIZE = 256\n",
        "EPOCHS = 10\n",
        "VALIDATION_SPLIT = 0.2\n",
        "\n",
        "print(\"\\nTraining Progress: \\n--------------------------------------------\")\n",
        "\n",
        "history = model.fit(X_train,\n",
        "                    Y_train,\n",
        "                    batch_size = BATCH_SIZE,\n",
        "                    epochs = EPOCHS,\n",
        "                    verbose = VERBOSE,\n",
        "                    validation_split = VALIDATION_SPLIT)\n",
        "\n",
        "print(\"\\nAccuracy during training : \\n----------------------------------------\")\n",
        "import matplotlib.pyplot as plt\n",
        "\n",
        "pd.DataFrame(history.history)[\"accuracy\"].plot(figsize=(8,5))\n",
        "plt.title(\"Accuracy improvements with Epoch\")\n",
        "plt.show()\n",
        "\n",
        "print(\"\\nEvaluation against Test Dataset : \\n---------------------------------\")\n",
        "model.evaluate(X_test, Y_test)"
      ],
      "metadata": {
        "colab": {
          "base_uri": "https://localhost:8080/",
          "height": 1000
        },
        "id": "QCzN1m1-c119",
        "outputId": "563b0203-45b3-494f-94b4-340ff99552da"
      },
      "execution_count": null,
      "outputs": [
        {
          "output_type": "stream",
          "name": "stdout",
          "text": [
            "\n",
            "Training Progress: \n",
            "--------------------------------------------\n",
            "Epoch 1/10\n",
            "5/5 [==============================] - 1s 126ms/step - loss: 0.6883 - accuracy: 0.6537 - val_loss: 0.6769 - val_accuracy: 0.8259\n",
            "Epoch 2/10\n",
            "5/5 [==============================] - 0s 32ms/step - loss: 0.6635 - accuracy: 0.8833 - val_loss: 0.6485 - val_accuracy: 0.8852\n",
            "Epoch 3/10\n",
            "5/5 [==============================] - 0s 36ms/step - loss: 0.6255 - accuracy: 0.9380 - val_loss: 0.6124 - val_accuracy: 0.9370\n",
            "Epoch 4/10\n",
            "5/5 [==============================] - 0s 31ms/step - loss: 0.5787 - accuracy: 0.9694 - val_loss: 0.5729 - val_accuracy: 0.9296\n",
            "Epoch 5/10\n",
            "5/5 [==============================] - 0s 39ms/step - loss: 0.5281 - accuracy: 0.9796 - val_loss: 0.5305 - val_accuracy: 0.9370\n",
            "Epoch 6/10\n",
            "5/5 [==============================] - 0s 33ms/step - loss: 0.4753 - accuracy: 0.9843 - val_loss: 0.4864 - val_accuracy: 0.9407\n",
            "Epoch 7/10\n",
            "5/5 [==============================] - 0s 29ms/step - loss: 0.4212 - accuracy: 0.9833 - val_loss: 0.4424 - val_accuracy: 0.9407\n",
            "Epoch 8/10\n",
            "5/5 [==============================] - 0s 64ms/step - loss: 0.3679 - accuracy: 0.9861 - val_loss: 0.4013 - val_accuracy: 0.9407\n",
            "Epoch 9/10\n",
            "5/5 [==============================] - 0s 66ms/step - loss: 0.3184 - accuracy: 0.9870 - val_loss: 0.3616 - val_accuracy: 0.9370\n",
            "Epoch 10/10\n",
            "5/5 [==============================] - 0s 54ms/step - loss: 0.2742 - accuracy: 0.9861 - val_loss: 0.3284 - val_accuracy: 0.9407\n",
            "\n",
            "Accuracy during training : \n",
            "----------------------------------------\n"
          ]
        },
        {
          "output_type": "display_data",
          "data": {
            "text/plain": [
              "<Figure size 800x500 with 1 Axes>"
            ],
            "image/png": "[encoded data removed]"
          },
          "metadata": {}
        },
        {
          "output_type": "stream",
          "name": "stdout",
          "text": [
            "\n",
            "Evaluation against Test Dataset : \n",
            "---------------------------------\n",
            "5/5 [==============================] - 0s 5ms/step - loss: 0.3153 - accuracy: 0.9733\n"
          ]
        },
        {
          "output_type": "execute_result",
          "data": {
            "text/plain": [
              "[0.3152514696121216, 0.9733333587646484]"
            ]
          },
          "metadata": {},
          "execution_count": 10
        }
      ]
    },
    {
      "cell_type": "markdown",
      "source": [
        "**5.4 Predicting for Text**"
      ],
      "metadata": {
        "id": "DKQMAiq8i38W"
      }
    },
    {
      "cell_type": "code",
      "source": [
        "# Predict for multiple samples using batch processing\n",
        "\n",
        "# Convert input into IF-IDF vector using the same vectorizer model\n",
        "predict_tfidf = vectorizer.transform([\"FREE entry to a fun contest\",\n",
        "                                      \"Yup I will come over\"]).toarray()\n",
        "\n",
        "print(predict_tfidf.shape)\n",
        "\n",
        "# Predict using model\n",
        "prediction = np.argmax(model.predict(predict_tfidf), axis=1)\n",
        "print(\"Prediction Output:\", prediction)\n",
        "\n",
        "# Print prediction classes\n",
        "print(\"Prediction Classes: \", label_encoder.inverse_transform(prediction))\n",
        "\n"
      ],
      "metadata": {
        "colab": {
          "base_uri": "https://localhost:8080/"
        },
        "id": "hONAaKzbi9f_",
        "outputId": "5d434e92-97aa-4a9e-8ad1-4fdf9a95e8b4"
      },
      "execution_count": null,
      "outputs": [
        {
          "output_type": "stream",
          "name": "stdout",
          "text": [
            "(2, 4566)\n",
            "1/1 [==============================] - 0s 88ms/step\n",
            "Prediction Output: [1 0]\n",
            "Prediction Classes:  ['spam' 'ham']\n"
          ]
        }
      ]
    },
    {
      "cell_type": "code",
      "source": [],
      "metadata": {
        "id": "dO3lRhccpVAg"
      },
      "execution_count": null,
      "outputs": []
    }
  ]
}