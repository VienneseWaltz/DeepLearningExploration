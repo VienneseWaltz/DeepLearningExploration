{
  "nbformat": 4,
  "nbformat_minor": 0,
  "metadata": {
    "colab": {
      "provenance": [],
      "authorship_tag": "ABX9TyOHtVganau9m6NOpj/ArlE1",
      "include_colab_link": true
    },
    "kernelspec": {
      "name": "python3",
      "display_name": "Python 3"
    },
    "language_info": {
      "name": "python"
    }
  },
  "cells": [
    {
      "cell_type": "markdown",
      "metadata": {
        "id": "view-in-github",
        "colab_type": "text"
      },
      "source": [
        "<a href=\"https://colab.research.google.com/github/VienneseWaltz/DeepLearningExploration/blob/main/RootCauseAnalysis.ipynb\" target=\"_parent\"><img src=\"https://colab.research.google.com/assets/colab-badge.svg\" alt=\"Open In Colab\"/></a>"
      ]
    },
    {
      "cell_type": "code",
      "execution_count": null,
      "metadata": {
        "id": "1Mu00kGXR4M9",
        "colab": {
          "base_uri": "https://localhost:8080/"
        },
        "outputId": "dc405b64-adf0-436d-b319-bdc64955a4f2"
      },
      "outputs": [
        {
          "output_type": "stream",
          "name": "stdout",
          "text": [
            "\n",
            "Loaded Data: \n",
            "------------------------------------\n",
            "   ID  CPU_LOAD  MEMORY_LEAK_LOAD  DELAY  ERROR_1000  ERROR_1001  ERROR_1002  \\\n",
            "0   1         0                 0      0           0           1           0   \n",
            "1   2         0                 0      0           0           0           0   \n",
            "2   3         0                 1      1           0           0           1   \n",
            "3   4         0                 1      0           1           1           0   \n",
            "4   5         1                 1      0           1           0           1   \n",
            "\n",
            "   ERROR_1003     ROOT_CAUSE  \n",
            "0           1    MEMORY_LEAK  \n",
            "1           1    MEMORY_LEAK  \n",
            "2           1    MEMORY_LEAK  \n",
            "3           1    MEMORY_LEAK  \n",
            "4           0  NETWORK_DELAY  \n"
          ]
        }
      ],
      "source": [
        "import pandas as pd\n",
        "import os\n",
        "import numpy as np\n",
        "from sklearn import preprocessing\n",
        "from sklearn.model_selection import train_test_split\n",
        "from sklearn.preprocessing import StandardScaler\n",
        "\n",
        "\n",
        "# Load the root_cause_analysis data file and review its content\n",
        "rca_data = pd.read_csv(\"/content/root_cause_analysis.csv\")\n",
        "\n",
        "print(\"\\nLoaded Data: \\n------------------------------------\")\n",
        "print(rca_data.head())\n",
        "\n",
        "\n"
      ]
    },
    {
      "cell_type": "markdown",
      "source": [],
      "metadata": {
        "id": "tsk9zf5VR-Pg"
      }
    },
    {
      "cell_type": "markdown",
      "source": [
        "**Convert data**\n",
        "Input data needs to be converted to formats that can be consumed by ML algorithms"
      ],
      "metadata": {
        "id": "saKH-P3Q6wf1"
      }
    },
    {
      "cell_type": "code",
      "source": [
        "from sklearn import preprocessing\n",
        "from sklearn.model_selection import train_test_split\n",
        "import tensorflow as tf\n",
        "\n",
        "label_encoder = preprocessing.LabelEncoder()\n",
        "rca_data['ROOT_CAUSE'] = label_encoder.fit_transform(rca_data['ROOT_CAUSE'])\n",
        "\n",
        "# Convert Pandas DataFrame to a numpy vector\n",
        "np_rca = rca_data.to_numpy().astype(float)\n",
        "# print(\"np_rca = \", np_rca)\n",
        "\n",
        "# Extract the feature variables (X)\n",
        "X_data = np_rca[:, 1:8]\n",
        "# print(\"X_data = : \", X_data)\n",
        "\n",
        "# Extract the target variable (Y), convert to one-hot-endcoding\n",
        "Y_data = np_rca[:, 8]                              # column 8 data\n",
        "Y_data = tf.keras.utils.to_categorical(Y_data, 3)  # 3 classes there\n",
        "\n",
        "print(\"\\nFeatures: \\n---------------------\")\n",
        "print(X_data[:5, :])\n",
        "\n",
        "print(\"\\nTarget after one-hot encoding: \\n---------------------------\")\n",
        "print(Y_data[:5, :])\n",
        "\n",
        "# Split training and test data\n",
        "X_train, X_test, Y_train, Y_test = train_test_split(X_data, Y_data, test_size = 0.10)\n",
        "\n",
        "\n",
        "print(\"\\nTrain Testing Dimensions: \\n-----------------\")\n",
        "print(X_train.shape, Y_train.shape, X_test.shape, Y_test.shape)\n",
        "print(\"Shape of feature variables: \", X_train.shape)\n",
        "print(\"Shape of target variable: \", Y_train.shape)"
      ],
      "metadata": {
        "colab": {
          "base_uri": "https://localhost:8080/"
        },
        "id": "X-mCGRD164_f",
        "outputId": "02a95e9b-8ad2-428b-de53-f163559b4373"
      },
      "execution_count": null,
      "outputs": [
        {
          "output_type": "stream",
          "name": "stdout",
          "text": [
            "\n",
            "Features: \n",
            "---------------------\n",
            "[[0. 0. 0. 0. 1. 0. 1.]\n",
            " [0. 0. 0. 0. 0. 0. 1.]\n",
            " [0. 1. 1. 0. 0. 1. 1.]\n",
            " [0. 1. 0. 1. 1. 0. 1.]\n",
            " [1. 1. 0. 1. 0. 1. 0.]]\n",
            "\n",
            "Target after one-hot encoding: \n",
            "---------------------------\n",
            "[[0. 1. 0.]\n",
            " [0. 1. 0.]\n",
            " [0. 1. 0.]\n",
            " [0. 1. 0.]\n",
            " [0. 0. 1.]]\n",
            "\n",
            "Train Testing Dimensions: \n",
            "-----------------\n",
            "(900, 7) (900, 3) (100, 7) (100, 3)\n",
            "Shape of feature variables:  (900, 7)\n",
            "Shape of target variable:  (900, 3)\n"
          ]
        }
      ]
    },
    {
      "cell_type": "markdown",
      "source": [],
      "metadata": {
        "id": "Bz-FlZNKOcGz"
      }
    },
    {
      "cell_type": "markdown",
      "source": [
        "**Building and evaluating the model**"
      ],
      "metadata": {
        "id": "MtK4RyDRGVbA"
      }
    },
    {
      "cell_type": "code",
      "source": [
        "from tensorflow import keras\n",
        "from tensorflow.keras import optimizers\n",
        "from tensorflow.keras.regularizers import l2\n",
        "\n",
        "# Setup Training Parameters\n",
        "EPOCHS = 20\n",
        "BATCH_SIZE = 64\n",
        "VERBOSE = 1\n",
        "OUTPUT_CLASSES = len(label_encoder.classes_)\n",
        "N_HIDDEN = 128\n",
        "VALIDATION_SPLIT = 0.2\n",
        "\n",
        "# Create a Keras Sequential Model\n",
        "model = tf.keras.models.Sequential()\n",
        "\n",
        "# Add a Dense Layer\n",
        "model.add(keras.layers.Dense(N_HIDDEN,\n",
        "                             input_shape=(7, ),\n",
        "                             name = 'Dense-Layer-1',\n",
        "                             activation = 'relu'))\n",
        "\n",
        "# Add a second dense layer\n",
        "model.add(keras.layers.Dense(N_HIDDEN,\n",
        "                             name = 'Hidden-Layer-2',\n",
        "                             activation='relu'))\n",
        "\n",
        "# Add an output layer with softmax activation for categorial prediction\n",
        "model.add(keras.layers.Dense(OUTPUT_CLASSES,\n",
        "                             name = 'Final',\n",
        "                             activation = 'softmax'))\n",
        "\n",
        "# Compile the model with loss & metrics\n",
        "model.compile(loss = 'categorical_crossentropy',\n",
        "              metrics = ['accuracy'])\n",
        "\n",
        "# Print the model meta-data\n",
        "model.summary()"
      ],
      "metadata": {
        "colab": {
          "base_uri": "https://localhost:8080/"
        },
        "id": "_tlKT0gJGZet",
        "outputId": "4e1965b1-69bb-470c-e3dd-098f9992a574"
      },
      "execution_count": null,
      "outputs": [
        {
          "output_type": "stream",
          "name": "stdout",
          "text": [
            "Model: \"sequential_2\"\n",
            "_________________________________________________________________\n",
            " Layer (type)                Output Shape              Param #   \n",
            "=================================================================\n",
            " Dense-Layer-1 (Dense)       (None, 128)               1024      \n",
            "                                                                 \n",
            " Hidden-Layer-2 (Dense)      (None, 128)               16512     \n",
            "                                                                 \n",
            " Final (Dense)               (None, 3)                 387       \n",
            "                                                                 \n",
            "=================================================================\n",
            "Total params: 17923 (70.01 KB)\n",
            "Trainable params: 17923 (70.01 KB)\n",
            "Non-trainable params: 0 (0.00 Byte)\n",
            "_________________________________________________________________\n"
          ]
        }
      ]
    },
    {
      "cell_type": "markdown",
      "source": [],
      "metadata": {
        "id": "GCs4d3ozLujx"
      }
    },
    {
      "cell_type": "markdown",
      "source": [
        "**Training and evaluatind the Model**"
      ],
      "metadata": {
        "id": "BuoG0uYmLozl"
      }
    },
    {
      "cell_type": "code",
      "source": [
        "print(\"\\nTraining Progress: \\n----------------------------------------------------------\")\n",
        "\n",
        "# Fit the model. This will perform the entire training cycle, including forward propagation,\n",
        "# lostt computation, backward propagation, and gradient descent.\n",
        "# Execute\n",
        "history = model.fit(X_train,\n",
        "                    Y_train,\n",
        "                    batch_size = BATCH_SIZE,\n",
        "                    epochs = EPOCHS,\n",
        "                    verbose = VERBOSE,\n",
        "                    validation_split = VALIDATION_SPLIT)\n"
      ],
      "metadata": {
        "colab": {
          "base_uri": "https://localhost:8080/"
        },
        "id": "VDFlaYr7LtlL",
        "outputId": "0cbb1ec6-b538-4ea9-94d3-757efac88107"
      },
      "execution_count": null,
      "outputs": [
        {
          "output_type": "stream",
          "name": "stdout",
          "text": [
            "\n",
            "Training Progress: \n",
            "----------------------------------------------------------\n",
            "Epoch 1/20\n",
            "12/12 [==============================] - 1s 22ms/step - loss: 0.9131 - accuracy: 0.6667 - val_loss: 0.7164 - val_accuracy: 0.7778\n",
            "Epoch 2/20\n",
            "12/12 [==============================] - 0s 7ms/step - loss: 0.6500 - accuracy: 0.7903 - val_loss: 0.5408 - val_accuracy: 0.8556\n",
            "Epoch 3/20\n",
            "12/12 [==============================] - 0s 5ms/step - loss: 0.5436 - accuracy: 0.8056 - val_loss: 0.4670 - val_accuracy: 0.8278\n",
            "Epoch 4/20\n",
            "12/12 [==============================] - 0s 8ms/step - loss: 0.5026 - accuracy: 0.8083 - val_loss: 0.4345 - val_accuracy: 0.8222\n",
            "Epoch 5/20\n",
            "12/12 [==============================] - 0s 10ms/step - loss: 0.4897 - accuracy: 0.8111 - val_loss: 0.4128 - val_accuracy: 0.8556\n",
            "Epoch 6/20\n",
            "12/12 [==============================] - 0s 8ms/step - loss: 0.4764 - accuracy: 0.8139 - val_loss: 0.4354 - val_accuracy: 0.8056\n",
            "Epoch 7/20\n",
            "12/12 [==============================] - 0s 9ms/step - loss: 0.4721 - accuracy: 0.8250 - val_loss: 0.4092 - val_accuracy: 0.8667\n",
            "Epoch 8/20\n",
            "12/12 [==============================] - 0s 7ms/step - loss: 0.4645 - accuracy: 0.8319 - val_loss: 0.4119 - val_accuracy: 0.8278\n",
            "Epoch 9/20\n",
            "12/12 [==============================] - 0s 9ms/step - loss: 0.4555 - accuracy: 0.8361 - val_loss: 0.3910 - val_accuracy: 0.8722\n",
            "Epoch 10/20\n",
            "12/12 [==============================] - 0s 9ms/step - loss: 0.4533 - accuracy: 0.8375 - val_loss: 0.3988 - val_accuracy: 0.8278\n",
            "Epoch 11/20\n",
            "12/12 [==============================] - 0s 8ms/step - loss: 0.4454 - accuracy: 0.8431 - val_loss: 0.3866 - val_accuracy: 0.8611\n",
            "Epoch 12/20\n",
            "12/12 [==============================] - 0s 10ms/step - loss: 0.4399 - accuracy: 0.8319 - val_loss: 0.3832 - val_accuracy: 0.8556\n",
            "Epoch 13/20\n",
            "12/12 [==============================] - 0s 8ms/step - loss: 0.4417 - accuracy: 0.8417 - val_loss: 0.3799 - val_accuracy: 0.8778\n",
            "Epoch 14/20\n",
            "12/12 [==============================] - 0s 9ms/step - loss: 0.4290 - accuracy: 0.8431 - val_loss: 0.4274 - val_accuracy: 0.8556\n",
            "Epoch 15/20\n",
            "12/12 [==============================] - 0s 8ms/step - loss: 0.4318 - accuracy: 0.8458 - val_loss: 0.3968 - val_accuracy: 0.8444\n",
            "Epoch 16/20\n",
            "12/12 [==============================] - 0s 8ms/step - loss: 0.4225 - accuracy: 0.8458 - val_loss: 0.3877 - val_accuracy: 0.8500\n",
            "Epoch 17/20\n",
            "12/12 [==============================] - 0s 7ms/step - loss: 0.4172 - accuracy: 0.8403 - val_loss: 0.3697 - val_accuracy: 0.8778\n",
            "Epoch 18/20\n",
            "12/12 [==============================] - 0s 9ms/step - loss: 0.4208 - accuracy: 0.8431 - val_loss: 0.3861 - val_accuracy: 0.8556\n",
            "Epoch 19/20\n",
            "12/12 [==============================] - 0s 11ms/step - loss: 0.4110 - accuracy: 0.8431 - val_loss: 0.3919 - val_accuracy: 0.8556\n",
            "Epoch 20/20\n",
            "12/12 [==============================] - 0s 9ms/step - loss: 0.4087 - accuracy: 0.8486 - val_loss: 0.3920 - val_accuracy: 0.8444\n"
          ]
        }
      ]
    },
    {
      "cell_type": "markdown",
      "source": [
        "**Plot Accuracy of The Model After Each Epoch**"
      ],
      "metadata": {
        "id": "CZ7kNEBLPnyn"
      }
    },
    {
      "cell_type": "code",
      "source": [
        "import matplotlib.pyplot as plt\n",
        "\n",
        "pd.DataFrame(history.history)[\"accuracy\"].plot(figsize = (8, 5))\n",
        "plt.title(\"Accuracy improvements with Epoch\")\n",
        "plt.show()"
      ],
      "metadata": {
        "colab": {
          "base_uri": "https://localhost:8080/",
          "height": 468
        },
        "id": "EN-qnFBQPuUb",
        "outputId": "c92008fc-e99f-49bf-bd7a-0ab5bdf4fece"
      },
      "execution_count": null,
      "outputs": [
        {
          "output_type": "display_data",
          "data": {
            "text/plain": [
              "<Figure size 800x500 with 1 Axes>"
            ],
            "image/png": "[encoded data removed]"
          },
          "metadata": {}
        }
      ]
    },
    {
      "cell_type": "code",
      "source": [
        "# Evalue the model against the test dataset and print results\n",
        "print(\"\\nEvaluation against Test Dataset: \\n-----------------------------------\")\n",
        "model.evaluate(X_test, Y_test)"
      ],
      "metadata": {
        "colab": {
          "base_uri": "https://localhost:8080/"
        },
        "id": "YbSExY1cQ7AC",
        "outputId": "654bcd70-f22c-4039-e40d-56be3bf084e8"
      },
      "execution_count": null,
      "outputs": [
        {
          "output_type": "stream",
          "name": "stdout",
          "text": [
            "\n",
            "Evaluation against Test Dataset: \n",
            "-----------------------------------\n",
            "4/4 [==============================] - 0s 4ms/step - loss: 0.3406 - accuracy: 0.8500\n"
          ]
        },
        {
          "output_type": "execute_result",
          "data": {
            "text/plain": [
              "[0.34063786268234253, 0.8500000238418579]"
            ]
          },
          "metadata": {},
          "execution_count": 26
        }
      ]
    },
    {
      "cell_type": "markdown",
      "source": [
        "**Predicting Root Causes**"
      ],
      "metadata": {
        "id": "xZF3qPLPVnCH"
      }
    },
    {
      "cell_type": "code",
      "source": [
        "# Pass individual flags to predict the root cause\n",
        "CPU_LOAD = 1\n",
        "MEMORY_LOAD = 0\n",
        "DELAY = 0\n",
        "ERROR_1000 = 0\n",
        "ERROR_1001 = 1\n",
        "ERROR_1002 = 1\n",
        "ERROR_1003 = 0\n",
        "\n",
        "prediction = np.argmax(model.predict(\n",
        "             [[CPU_LOAD, MEMORY_LOAD, DELAY,\n",
        "               ERROR_1000, ERROR_1001, ERROR_1002, ERROR_1003]]), axis = 1)\n",
        "print(label_encoder.inverse_transform(prediction))"
      ],
      "metadata": {
        "colab": {
          "base_uri": "https://localhost:8080/"
        },
        "id": "iFeg_m-eVuLQ",
        "outputId": "9dbbec96-e845-4d99-f174-9d158f530b21"
      },
      "execution_count": null,
      "outputs": [
        {
          "output_type": "stream",
          "name": "stdout",
          "text": [
            "1/1 [==============================] - 0s 205ms/step\n",
            "[0]\n"
          ]
        }
      ]
    },
    {
      "cell_type": "code",
      "source": [
        "# Predicting as a Batch\n",
        "print(label_encoder.inverse_transform(np.argmax(\n",
        "    model.predict([[1, 0, 0, 0, 1, 1, 0],\n",
        "                     [0,1,1,1,0,0,0],\n",
        "                     [1, 1, 0, 1, 1, 0, 1],\n",
        "                     [0, 0, 0, 0, 0, 1, 0],\n",
        "                     [1, 0, 1, 0, 1, 1, 1]]), axis = 1)))\n"
      ],
      "metadata": {
        "colab": {
          "base_uri": "https://localhost:8080/"
        },
        "id": "_USZS2dzYpgN",
        "outputId": "477a76a6-15d2-4701-ab12-f107e1ef4bae"
      },
      "execution_count": null,
      "outputs": [
        {
          "output_type": "stream",
          "name": "stdout",
          "text": [
            "1/1 [==============================] - 0s 41ms/step\n",
            "[0 2 1 0 0]\n"
          ]
        }
      ]
    },
    {
      "cell_type": "code",
      "source": [],
      "metadata": {
        "id": "qUVIk0D-bXHZ"
      },
      "execution_count": null,
      "outputs": []
    }
  ]
}